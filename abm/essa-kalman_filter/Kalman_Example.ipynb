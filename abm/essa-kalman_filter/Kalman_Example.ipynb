{
 "cells": [
  {
   "cell_type": "markdown",
   "metadata": {
    "collapsed": true
   },
   "source": [
    "# Kalman Filter Data Assimilation Example\n",
    "\n",
    "## Introduction\n",
    "\n",
    "This is the example presented at the ESSA [Social Simulation Conference (SSC)](http://www.sim2017.com/) on 26th September 2017 in Dublin. It shows how to use an Ensemble Kalman Filter (EnKF) to assimilate data into a simple agent-based model. I can't take any credit for the code, it was written entirely by Alice Tapper and [Jon Ward](http://www1.maths.leeds.ac.uk/~jaward/); I've only adapted and commented it.\n",
    "\n",
    "The slides explaining the work are available on the [Simulating Urban Flows\n",
    "website](http://surf.leeds.ac.uk/p/2017-09-26-essa-da.html) and the full paper is available <a href=\"http://surf.leeds.ac.uk/p/2017-09-26-essa-da.pdf\">here</a>.\n",
    "\n",
    "The code below makes use of the [workingcameras.py](./workingcameras.py) model. This is a simple model in which agents start at one end of a hypothetical street and walk towards the other end. Some of them are able to leave the street half way along. There are hypotehtical cameras at each end of the street that count how many people enter and leave, but we don't know how many leave at the midpoint. The purpose of the EnKF is to take the latest counts from the second camera and use this to estimate the real number of people currently in the street.\n",
    "\n",
    "This example begins with running one step of the process to demonstrate how it works before running the whole process a number of times.\n",
    "\n",
    "Please note that you will need the packages `pandas` and `pillow`.\n"
   ]
  },
  {
   "cell_type": "markdown",
   "metadata": {},
   "source": [
    "## Initialisation\n",
    "\n",
    "Load the required packages"
   ]
  },
  {
   "cell_type": "code",
   "execution_count": 41,
   "metadata": {
    "collapsed": true
   },
   "outputs": [],
   "source": [
    "import numpy as np\n",
    "import matplotlib.pyplot as plt\n",
    "import workingcameras as cam # The model\n",
    "np.random.seed(3)\n",
    "\n",
    "%matplotlib inline"
   ]
  },
  {
   "cell_type": "markdown",
   "metadata": {},
   "source": [
    "## Generate hypothetical 'truth'"
   ]
  },
  {
   "cell_type": "markdown",
   "metadata": {},
   "source": [
    "First we generate the 'true' data. We will pretent that this represents the real world system. Use 7200 minutes for no real reason, and choose a probability of agents leaving the street at the midpoint (the 'bleed out rate') drawn from a normal distribution of 0.5, standard deviation 0.1. Start with 600 agents"
   ]
  },
  {
   "cell_type": "code",
   "execution_count": 2,
   "metadata": {},
   "outputs": [
    {
     "name": "stdout",
     "output_type": "stream",
     "text": [
      "Bleedout rate is: 0.6788628473430318\n",
      "finished saving camera counts\n"
     ]
    }
   ],
   "source": [
    "bleedoutrate_true = np.random.normal(0.5, scale=0.1)\n",
    "print(\"Bleedout rate is: {}\".format(bleedoutrate_true))\n",
    "truth = cam.runProgramTrue(bleedoutrate_true, 7200, 600) "
   ]
  },
  {
   "cell_type": "markdown",
   "metadata": {
    "collapsed": true
   },
   "source": [
    "## Create the ensemble\n",
    "\n",
    "The 'ensemble' is the group of models that we run simultaneously. For now use an ensemble of size 30 for speed, but ultimately maybe 100 will work better.\n",
    "\n",
    "Initialise the ensemble drawing the bleed out rate from the prior normal distribution,\n",
    "mean 0.5 and SD 0.1."
   ]
  },
  {
   "cell_type": "code",
   "execution_count": 4,
   "metadata": {},
   "outputs": [
    {
     "name": "stdout",
     "output_type": "stream",
     "text": [
      "finished saving camera counts\n",
      "finished saving camera counts\n",
      "finished saving camera counts\n",
      "finished saving camera counts\n",
      "finished saving camera counts\n",
      "finished saving camera counts\n",
      "finished saving camera counts\n",
      "finished saving camera counts\n",
      "finished saving camera counts\n",
      "finished saving camera counts\n",
      "finished saving camera counts\n",
      "finished saving camera counts\n",
      "finished saving camera counts\n",
      "finished saving camera counts\n",
      "finished saving camera counts\n",
      "finished saving camera counts\n",
      "finished saving camera counts\n",
      "finished saving camera counts\n",
      "finished saving camera counts\n",
      "finished saving camera counts\n",
      "finished saving camera counts\n",
      "finished saving camera counts\n",
      "finished saving camera counts\n",
      "finished saving camera counts\n",
      "finished saving camera counts\n",
      "finished saving camera counts\n",
      "finished saving camera counts\n",
      "finished saving camera counts\n",
      "finished saving camera counts\n",
      "finished saving camera counts\n"
     ]
    }
   ],
   "source": [
    "initial = []\n",
    "\n",
    "for i in range(30):\n",
    "    bleedoutrate = np.random.normal(0.5, scale=0.1)\n",
    "    result = cam.runProgram(bleedoutrate, 61, 600)\n",
    "    initial.append(result)\n",
    "\n",
    "initial = np.array(initial)"
   ]
  },
  {
   "cell_type": "markdown",
   "metadata": {},
   "source": [
    "Look at the spread in bleedoutrates across the ensemble"
   ]
  },
  {
   "cell_type": "code",
   "execution_count": 5,
   "metadata": {},
   "outputs": [
    {
     "data": {
      "text/plain": [
       "array([ 0.54365099,  0.50964975,  0.31365073,  0.47226118,  0.4645241 ,\n",
       "        0.49172585,  0.43729993,  0.49561818,  0.4522782 ,  0.36861352,\n",
       "        0.58846224,  0.5881318 ,  0.67095731,  0.50500336,  0.45953226,\n",
       "        0.44546401,  0.34535227,  0.59823674,  0.38989324,  0.38149535,\n",
       "        0.47943501,  0.64861484,  0.52367163,  0.39762149,  0.42870068,\n",
       "        0.5625245 ,  0.48394866,  0.42311636,  0.47699693,  0.57450563])"
      ]
     },
     "execution_count": 5,
     "metadata": {},
     "output_type": "execute_result"
    }
   ],
   "source": [
    "initial[:, -3] "
   ]
  },
  {
   "cell_type": "markdown",
   "metadata": {},
   "source": [
    "## Forecast Step\n",
    "\n",
    "In the 'forecast' step, the current (estimated) model state is fed into the model, and the model plays forward until the next observation time (1 hour in this case). This generates a forecast. \n",
    "\n",
    "The ensemble forecast mean will give an estimated forecast of the true state, while the covariance of the ensemble forecast states provides a measure of its uncertainty.\n",
    "\n",
    "Now step each model in the ensemble by running them forward for an hour"
   ]
  },
  {
   "cell_type": "code",
   "execution_count": 6,
   "metadata": {},
   "outputs": [
    {
     "name": "stdout",
     "output_type": "stream",
     "text": [
      "70\n",
      "80\n",
      "90\n",
      "100\n",
      "110\n",
      "120\n",
      "finished saving camera counts\n",
      "70\n",
      "80\n",
      "90\n",
      "100\n",
      "110\n",
      "120\n",
      "finished saving camera counts\n",
      "70\n",
      "80\n",
      "90\n",
      "100\n",
      "110\n",
      "120\n",
      "finished saving camera counts\n",
      "70\n",
      "80\n",
      "90\n",
      "100\n",
      "110\n",
      "120\n",
      "finished saving camera counts\n",
      "70\n",
      "80\n",
      "90\n",
      "100\n",
      "110\n",
      "120\n",
      "finished saving camera counts\n",
      "70\n",
      "80\n",
      "90\n",
      "100\n",
      "110\n",
      "120\n",
      "finished saving camera counts\n",
      "70\n",
      "80\n",
      "90\n",
      "100\n",
      "110\n",
      "120\n",
      "finished saving camera counts\n",
      "70\n",
      "80\n",
      "90\n",
      "100\n",
      "110\n",
      "120\n",
      "finished saving camera counts\n",
      "70\n",
      "80\n",
      "90\n",
      "100\n",
      "110\n",
      "120\n",
      "finished saving camera counts\n",
      "70\n",
      "80\n",
      "90\n",
      "100\n",
      "110\n",
      "120\n",
      "finished saving camera counts\n",
      "70\n",
      "80\n",
      "90\n",
      "100\n",
      "110\n",
      "120\n",
      "finished saving camera counts\n",
      "70\n",
      "80\n",
      "90\n",
      "100\n",
      "110\n",
      "120\n",
      "finished saving camera counts\n",
      "70\n",
      "80\n",
      "90\n",
      "100\n",
      "110\n",
      "120\n",
      "finished saving camera counts\n",
      "70\n",
      "80\n",
      "90\n",
      "100\n",
      "110\n",
      "120\n",
      "finished saving camera counts\n",
      "70\n",
      "80\n",
      "90\n",
      "100\n",
      "110\n",
      "120\n",
      "finished saving camera counts\n",
      "70\n",
      "80\n",
      "90\n",
      "100\n",
      "110\n",
      "120\n",
      "finished saving camera counts\n",
      "70\n",
      "80\n",
      "90\n",
      "100\n",
      "110\n",
      "120\n",
      "finished saving camera counts\n",
      "70\n",
      "80\n",
      "90\n",
      "100\n",
      "110\n",
      "120\n",
      "finished saving camera counts\n",
      "70\n",
      "80\n",
      "90\n",
      "100\n",
      "110\n",
      "120\n",
      "finished saving camera counts\n",
      "70\n",
      "80\n",
      "90\n",
      "100\n",
      "110\n",
      "120\n",
      "finished saving camera counts\n",
      "70\n",
      "80\n",
      "90\n",
      "100\n",
      "110\n",
      "120\n",
      "finished saving camera counts\n",
      "70\n",
      "80\n",
      "90\n",
      "100\n",
      "110\n",
      "120\n",
      "finished saving camera counts\n",
      "70\n",
      "80\n",
      "90\n",
      "100\n",
      "110\n",
      "120\n",
      "finished saving camera counts\n",
      "70\n",
      "80\n",
      "90\n",
      "100\n",
      "110\n",
      "120\n",
      "finished saving camera counts\n",
      "70\n",
      "80\n",
      "90\n",
      "100\n",
      "110\n",
      "120\n",
      "finished saving camera counts\n",
      "70\n",
      "80\n",
      "90\n",
      "100\n",
      "110\n",
      "120\n",
      "finished saving camera counts\n",
      "70\n",
      "80\n",
      "90\n",
      "100\n",
      "110\n",
      "120\n",
      "finished saving camera counts\n",
      "70\n",
      "80\n",
      "90\n",
      "100\n",
      "110\n",
      "120\n",
      "finished saving camera counts\n",
      "70\n",
      "80\n",
      "90\n",
      "100\n",
      "110\n",
      "120\n",
      "finished saving camera counts\n",
      "70\n",
      "80\n",
      "90\n",
      "100\n",
      "110\n",
      "120\n",
      "finished saving camera counts\n"
     ]
    }
   ],
   "source": [
    "forecasts = []\n",
    "\n",
    "for i in range(30):\n",
    "    prediction = cam.runForecast(61, 600, initial[i], 0, 0, 0, steps=60)\n",
    "    forecasts.append(prediction)\n",
    "    \n",
    "forecasts = np.array(forecasts)\n"
   ]
  },
  {
   "cell_type": "markdown",
   "metadata": {},
   "source": [
    "### Generate the covariance matrix\n",
    "\n",
    "We now generate the forecast covariance matrix. This is used to provide a measure of the uncertainty of the ensemble forecasts.\n",
    "\n",
    "The covariance matrix is an N x N matrix, where:\n",
    " - N = M agents locations and route info + bleedoutrate + c_a counts + c_b counts,\n",
    " - i.e N = 2M + 3\n",
    "\n",
    "We find the mean of the forecast ensemble, and find the error from the mean for each value"
   ]
  },
  {
   "cell_type": "code",
   "execution_count": 12,
   "metadata": {
    "collapsed": true
   },
   "outputs": [],
   "source": [
    "means = np.mean(forecasts, axis=0)\n",
    "adjusted = forecasts - means\n",
    "covariance = np.cov(adjusted.T)"
   ]
  },
  {
   "cell_type": "markdown",
   "metadata": {},
   "source": [
    "The covariance[-1][-3] measures how the change in bleed out rate affects\n",
    "the change in the c_b counts"
   ]
  },
  {
   "cell_type": "code",
   "execution_count": 18,
   "metadata": {},
   "outputs": [
    {
     "name": "stdout",
     "output_type": "stream",
     "text": [
      "0.730948154486\n"
     ]
    }
   ],
   "source": [
    "print(covariance[-1][-3])"
   ]
  },
  {
   "cell_type": "markdown",
   "metadata": {},
   "source": [
    "## Data Assimilation Step"
   ]
  },
  {
   "cell_type": "markdown",
   "metadata": {},
   "source": [
    "Upon receiving the actual observation from our 'truth' data, the ensemble forecasts are updated accordingly.  The updated values are called the ensemble analysis. As before, the ensemble analysis mean will give the best estimation of the true state, while the covariance of the ensemble analysis states provides a measure of its uncertainty.\n",
    "\n",
    "Start by getting the next observation from our truth data (these are counts from the two cameras).\n",
    "\n",
    "### Prepare virtual and 'real' observations"
   ]
  },
  {
   "cell_type": "code",
   "execution_count": 21,
   "metadata": {},
   "outputs": [
    {
     "name": "stdout",
     "output_type": "stream",
     "text": [
      "[99, 73]\n"
     ]
    }
   ],
   "source": [
    "observation = [truth[-2][2], truth[-1][2]]\n",
    "print(observation)"
   ]
  },
  {
   "cell_type": "markdown",
   "metadata": {},
   "source": [
    "Then we create the virtual observations by assuming additive Gaussian noise (in the real world sensors will never produce 100% accurate estimates of the state of the world, so we assume that our measurements contain some noise)."
   ]
  },
  {
   "cell_type": "code",
   "execution_count": 24,
   "metadata": {},
   "outputs": [
    {
     "name": "stdout",
     "output_type": "stream",
     "text": [
      "[[  91.25373948   58.6000573 ]\n",
      " [ 104.65942851   64.37937369]\n",
      " [  97.35818499   83.186074  ]\n",
      " [  86.16844247   68.49690888]\n",
      " [ 131.37224013   86.11428584]\n",
      " [  79.59695052   71.80388593]\n",
      " [ 107.46728277   91.50206567]\n",
      " [ 101.23479592   65.04126783]\n",
      " [  88.04210034   82.67592977]\n",
      " [ 103.69590561   65.25028113]\n",
      " [  96.163925     66.75702977]\n",
      " [ 109.86986487   62.65058984]\n",
      " [ 106.29621713   85.77278426]\n",
      " [ 106.29373989   60.48640224]\n",
      " [ 119.17488685   62.82680981]\n",
      " [ 105.39652612   61.6999781 ]\n",
      " [  72.83834624   76.38625399]\n",
      " [ 103.30552747   71.83838559]\n",
      " [ 103.14102746   63.27383668]\n",
      " [  87.93802744   70.47864852]\n",
      " [ 127.63915214   85.22221812]\n",
      " [  91.20012369   81.38069807]\n",
      " [  91.82453009   66.14108819]\n",
      " [ 111.88926012   65.12103032]\n",
      " [  73.86548049   59.40257949]\n",
      " [ 100.32622809   74.92011732]\n",
      " [ 117.62424777   62.25961304]\n",
      " [ 109.97198604   79.38950125]\n",
      " [  96.76479342   85.53765853]\n",
      " [ 106.38178354   60.0653727 ]]\n"
     ]
    }
   ],
   "source": [
    "virtualobs = np.zeros((30,2))\n",
    "\n",
    "for i in range(30):\n",
    "    for j in range(2):\n",
    "        virtualobs[i][j] = observation[j] + np.random.normal(0, 15)\n",
    "\n",
    "print(virtualobs)"
   ]
  },
  {
   "cell_type": "markdown",
   "metadata": {},
   "source": [
    "### Kalman Gain Matrix\n",
    "\n",
    "Code the matrix H, the forward model, which is just a transformation matrix changing the state vector into the same form as the observation vector"
   ]
  },
  {
   "cell_type": "code",
   "execution_count": 26,
   "metadata": {
    "collapsed": true
   },
   "outputs": [],
   "source": [
    "H = np.zeros((2, 2*600 + 3))\n",
    "\n",
    "H[-1][-1] = 1\n",
    "H[0][-2] = 1"
   ]
  },
  {
   "cell_type": "markdown",
   "metadata": {},
   "source": [
    "Calculate the **Kalman gain matrix**. This is used to balance the impact of the new data on the model states as the real world state should be some combination of an imperfect model and the imperfect real world observations.\n",
    "\n",
    "R contains the variance of the random errors (i.e 15^2)"
   ]
  },
  {
   "cell_type": "code",
   "execution_count": 31,
   "metadata": {
    "collapsed": true
   },
   "outputs": [],
   "source": [
    "P = covariance\n",
    "R = np.array([[225, 0],[0, 225]])\n",
    "\n",
    "tbi = np.dot(np.dot(H,P),H.T) + R # (tbi = 'to be inverted')\n",
    "\n",
    "# We want to solve K tbi = P H.T to find K \n",
    "# rewrite to form tbi.T K.T = H P.T'''\n",
    "\n",
    "LHS = tbi.T\n",
    "RHS = np.dot(H,P.T)\n",
    "\n",
    "Ktranspose = np.linalg.lstsq(LHS,RHS)\n",
    "\n",
    "K = Ktranspose[0].T"
   ]
  },
  {
   "cell_type": "markdown",
   "metadata": {},
   "source": [
    "### The ensemble analysis\n",
    "\n",
    "Create the ensemble analysis"
   ]
  },
  {
   "cell_type": "code",
   "execution_count": 33,
   "metadata": {},
   "outputs": [],
   "source": [
    "ens_analysis = []\n",
    "\n",
    "for i in range(30):\n",
    "    tbm = virtualobs[i] - np.dot(H,forecasts[i])\n",
    "    adjust = forecasts[i] + np.dot(K,tbm)\n",
    "    ens_analysis.append(adjust)"
   ]
  },
  {
   "cell_type": "markdown",
   "metadata": {},
   "source": [
    "Average the ensemble analysis and find analysis covariance"
   ]
  },
  {
   "cell_type": "code",
   "execution_count": 53,
   "metadata": {
    "collapsed": true
   },
   "outputs": [],
   "source": [
    "ens_means = np.mean(ens_analysis, axis=0)\n",
    "\n",
    "ens_error = ens_analysis - ens_means\n",
    "\n",
    "ens_covariance = np.cov(ens_error.T)"
   ]
  },
  {
   "cell_type": "markdown",
   "metadata": {},
   "source": [
    "That's it! We can now just repeat that process for as many iterations as we want to.\n",
    "\n",
    "Finish by looking at the ensemble means."
   ]
  },
  {
   "cell_type": "code",
   "execution_count": 54,
   "metadata": {},
   "outputs": [
    {
     "data": {
      "text/plain": [
       "{'boxes': [<matplotlib.lines.Line2D at 0x11bf91c50>],\n",
       " 'caps': [<matplotlib.lines.Line2D at 0x11dfd5f98>,\n",
       "  <matplotlib.lines.Line2D at 0x11dfe15f8>],\n",
       " 'fliers': [<matplotlib.lines.Line2D at 0x11dfe1d30>],\n",
       " 'means': [],\n",
       " 'medians': [<matplotlib.lines.Line2D at 0x11dfe1710>],\n",
       " 'whiskers': [<matplotlib.lines.Line2D at 0x11bf91e10>,\n",
       "  <matplotlib.lines.Line2D at 0x11dfd5978>]}"
      ]
     },
     "execution_count": 54,
     "metadata": {},
     "output_type": "execute_result"
    },
    {
     "data": {
      "image/png": "[encoded data removed]",
      "text/plain": [
       "<matplotlib.figure.Figure at 0x11d00c5f8>"
      ]
     },
     "metadata": {},
     "output_type": "display_data"
    }
   ],
   "source": [
    "plt.boxplot(ens_means, notch=True)"
   ]
  }
 ],
 "metadata": {
  "kernelspec": {
   "display_name": "Python 3",
   "language": "python",
   "name": "python3"
  },
  "language_info": {
   "codemirror_mode": {
    "name": "ipython",
    "version": 3
   },
   "file_extension": ".py",
   "mimetype": "text/x-python",
   "name": "python",
   "nbconvert_exporter": "python",
   "pygments_lexer": "ipython3",
   "version": "3.6.1"
  }
 },
 "nbformat": 4,
 "nbformat_minor": 2
}
